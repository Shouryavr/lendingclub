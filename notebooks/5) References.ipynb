{
 "cells": [
  {
   "cell_type": "markdown",
   "metadata": {},
   "source": [
    "# REFERENCES"
   ]
  },
  {
   "cell_type": "code",
   "execution_count": null,
   "metadata": {},
   "outputs": [],
   "source": [
    "Websites:\n",
    "\n",
    "1. Lending Club\n",
    "2. For People of Color Banks are shutting the Door to Homeownership\n",
    "3. FDIC Equal Housing Lender\n",
    "4. Financial Data Analysis \n",
    "5. Predicting Loan Repayment \n",
    "6. Credit Risk Modelling \n",
    "7. Pubs-Stats-Loan Data Analysis\n",
    "\n",
    "Paper:\n",
    "Andy Feis, Viraj Mehta, Scott Morris, John Solitario, Cameron Van De Graaf. P2P loan selection. \n",
    "Stanford University, June 4, 2016"
   ]
  }
 ],
 "metadata": {
  "kernelspec": {
   "display_name": "Python 3",
   "language": "python",
   "name": "python3"
  },
  "language_info": {
   "codemirror_mode": {
    "name": "ipython",
    "version": 3
   },
   "file_extension": ".py",
   "mimetype": "text/x-python",
   "name": "python",
   "nbconvert_exporter": "python",
   "pygments_lexer": "ipython3",
   "version": "3.6.5"
  }
 },
 "nbformat": 4,
 "nbformat_minor": 2
}
