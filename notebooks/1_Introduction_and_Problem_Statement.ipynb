{
 "cells": [
  {
   "cell_type": "markdown",
   "metadata": {},
   "source": [
    "# <img style=\"float: left; padding-right: 10px; width: 45px\" src=\"https://raw.githubusercontent.com/Harvard-IACS/2018-CS109A/master/content/styles/iacs.png\"> CS109A Introduction to Data Science \n",
    "\n",
    "## Project Group #26: Lending Club\n",
    "\n",
    "\n",
    "**Harvard University**<br/>\n",
    "**Fall 2018**<br/>\n",
    "**Instructors**: Pavlos Protopapas, Kevin Rader<br/>\n",
    "**TF**: Jerry Peng<br/>\n",
    "**Students**: Michel Atoudem Kana, William Groves, Shourya Veeraganti\n",
    "\n",
    "<hr style=\"height:2pt\">\n",
    "\n"
   ]
  },
  {
   "cell_type": "markdown",
   "metadata": {},
   "source": [
    "# Introduction and Problem Statement"
   ]
  },
  {
   "cell_type": "markdown",
   "metadata": {},
   "source": [
    "# Introduction\n",
    "\n",
    "$About$ $the$ $company$\n",
    "\n",
    "Lending Club is a US peer-to-peer lending company, headquartered in San Francisco, California. It was the first peer-to-peer lender to register its offerings as securities with the Securities and Exchange Commission, and to offer loan trading on a secondary market.\n",
    "\n",
    "\n",
    "$Motivation$\n",
    "\n",
    "LendingClub is a peer-to-peer lending network that connects borrowers to investors and facilitates the payment of loans ranging from \\\\$1,000 to \\\\$40,000. Investors review the loan applications, and make decisions based on risk analysis provided by Lending Club, or their own strategies. Despite being an “Equal Housing Lender”, Lending Club is the site of possible discrimination or unfair lending practices. Studies show that the federal Fair Housing Act has failed in the past to stop discrimination with regard to race, color, religion, national origin, sex, handicap, or familial status when approving loans.\n",
    "\n",
    "\n",
    "# Problem Statement\n",
    "\n",
    "Our main problem statement is to \n",
    "\n",
    "\"*predict the approval or deny of a loan request and to constrain that model regarding fairness and interpretability without substantial losses to efficacy of investment strategy*\"\n",
    "\n",
    "Thus, to deliver a data-driven predictive model that powers an investment strategy."
   ]
  }
 ],
 "metadata": {
  "kernelspec": {
   "display_name": "Python 3",
   "language": "python",
   "name": "python3"
  },
  "language_info": {
   "codemirror_mode": {
    "name": "ipython",
    "version": 3
   },
   "file_extension": ".py",
   "mimetype": "text/x-python",
   "name": "python",
   "nbconvert_exporter": "python",
   "pygments_lexer": "ipython3",
   "version": "3.6.5"
  }
 },
 "nbformat": 4,
 "nbformat_minor": 2
}
